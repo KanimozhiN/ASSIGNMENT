{
 "cells": [
  {
   "cell_type": "markdown",
   "id": "77293a0b",
   "metadata": {},
   "source": [
    "QUESTION NUM 1"
   ]
  },
  {
   "cell_type": "code",
   "execution_count": 5,
   "id": "6fe6df0b",
   "metadata": {},
   "outputs": [
    {
     "name": "stdout",
     "output_type": "stream",
     "text": [
      "This declaration represents a political commitment among declaration partners to advance a positive vision for the Internet in this era of a united europe\n",
      "Europe united a of era this in internet the for vision positive a advance to partners declaration among commitment political a represents declaration this\n",
      "[('a', 3), ('this', 2)]\n"
     ]
    }
   ],
   "source": [
    "new_string=input()\n",
    "a=new_string.split(' ')\n",
    "reverse_string=' '.join(a[::-1]).lower()\n",
    "b=reverse_string.capitalize()\n",
    "print(b)\n",
    "from collections import Counter\n",
    "split_it = b.split()\n",
    "Counter = Counter(split_it)\n",
    "most_occur = Counter.most_common(2)\n",
    "print(most_occur)"
   ]
  },
  {
   "cell_type": "code",
   "execution_count": null,
   "id": "9334dfbf",
   "metadata": {},
   "outputs": [],
   "source": []
  }
 ],
 "metadata": {
  "kernelspec": {
   "display_name": "Python 3",
   "language": "python",
   "name": "python3"
  },
  "language_info": {
   "codemirror_mode": {
    "name": "ipython",
    "version": 3
   },
   "file_extension": ".py",
   "mimetype": "text/x-python",
   "name": "python",
   "nbconvert_exporter": "python",
   "pygments_lexer": "ipython3",
   "version": "3.8.8"
  }
 },
 "nbformat": 4,
 "nbformat_minor": 5
}
